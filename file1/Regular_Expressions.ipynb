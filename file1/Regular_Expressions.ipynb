{
  "nbformat": 4,
  "nbformat_minor": 0,
  "metadata": {
    "colab": {
      "provenance": []
    },
    "kernelspec": {
      "name": "python3",
      "display_name": "Python 3"
    },
    "language_info": {
      "name": "python"
    }
  },
  "cells": [
    {
      "cell_type": "markdown",
      "source": [
        "Question 1- Write a Python program to replace all occurrences of a space,\n",
        "comma, or dot with a colon."
      ],
      "metadata": {
        "id": "1dANNl45I1JU"
      }
    },
    {
      "cell_type": "code",
      "execution_count": 110,
      "metadata": {
        "colab": {
          "base_uri": "https://localhost:8080/"
        },
        "id": "nwsgdGcSVNTT",
        "outputId": "90ccb8c3-3036-4e61-a9b7-1fde7e4f49a9"
      },
      "outputs": [
        {
          "output_type": "stream",
          "name": "stdout",
          "text": [
            "Python:Exercises::PHP:exercises:\n"
          ]
        }
      ],
      "source": [
        "import re\n",
        "\n",
        "def replace_chars(input_text):\n",
        "    pattern = r'[ ,.]'\n",
        "    output_text = re.sub(pattern, ':', input_text)\n",
        "    return output_text\n",
        "\n",
        "\n",
        "text = 'Python Exercises, PHP exercises.'\n",
        "\n",
        "result = replace_chars(text)\n",
        "print(result)\n"
      ]
    },
    {
      "cell_type": "markdown",
      "source": [
        "Question 2-  Create a dataframe using the dictionary below and remove\n",
        "everything (commas (,), !, XXXX, ;, etc.) from the columns except words.\n"
      ],
      "metadata": {
        "id": "8NUMrEgcJFAF"
      }
    },
    {
      "cell_type": "code",
      "source": [
        "import pandas as pd\n",
        "import re\n",
        "\n",
        "my_dict = {'SUMMARY': ['hello, world!', 'XXXXX test', '123four, five:; six...']}\n",
        "\n",
        "df = pd.DataFrame(my_dict)\n",
        "\n",
        "def remove_chars(text):\n",
        "    cleaned_text = re.sub(r'[,\\!;:0-9X.]+', ' ', text)\n",
        "    cleaned_text = ' '.join(cleaned_text.split())\n",
        "    return cleaned_text\n",
        "\n",
        "df['SUMMARY'] = df['SUMMARY'].apply(remove_chars)\n",
        "print(df.to_string(header=False, index=False))\n"
      ],
      "metadata": {
        "colab": {
          "base_uri": "https://localhost:8080/"
        },
        "id": "mvco7VKxWmov",
        "outputId": "d849432e-f4df-4dfe-a17b-c27310b36ad7"
      },
      "execution_count": 111,
      "outputs": [
        {
          "output_type": "stream",
          "name": "stdout",
          "text": [
            "  hello world\n",
            "         test\n",
            "four five six\n"
          ]
        }
      ]
    },
    {
      "cell_type": "markdown",
      "source": [
        "Question 3- Create a function in python to find all words that are at least 4\n",
        "characters long in a string.\n",
        "The use of the re.compile() method is mandatory."
      ],
      "metadata": {
        "id": "K4PzYe9MJskY"
      }
    },
    {
      "cell_type": "code",
      "source": [
        "import re\n",
        "def find_words(input_string):\n",
        "\n",
        "    pattern = re.compile(r'\\b\\w{4,}\\b')\n",
        "    long_words = pattern.findall(input_string)\n",
        "\n",
        "    return long_words\n",
        "\n",
        "\n",
        "text1= \"Python is a powerful programming language with many features.\"\n",
        "text2 = \"Regular expressions can be complex, but they are powerful tools.\"\n",
        "\n",
        "result_1 = find_words(text1)\n",
        "result_2 = find_words(text2)\n",
        "print(result_1)\n",
        "print(result_2)\n",
        "\n"
      ],
      "metadata": {
        "colab": {
          "base_uri": "https://localhost:8080/"
        },
        "id": "CMvigWsRY2t3",
        "outputId": "d40cda90-3b81-4baa-c47c-6637c9bc2865"
      },
      "execution_count": 112,
      "outputs": [
        {
          "output_type": "stream",
          "name": "stdout",
          "text": [
            "['Python', 'powerful', 'programming', 'language', 'with', 'many', 'features']\n",
            "['Regular', 'expressions', 'complex', 'they', 'powerful', 'tools']\n"
          ]
        }
      ]
    },
    {
      "cell_type": "markdown",
      "source": [
        "Question 4- Create a function in python to find all three, four, and five\n",
        "character words in a string. The use of the re.compile() method is mandatory"
      ],
      "metadata": {
        "id": "H1ae9AKeJ4GS"
      }
    },
    {
      "cell_type": "code",
      "source": [
        "import re\n",
        "\n",
        "def find_words_of_lengths(input_string):\n",
        "    pattern = re.compile(r'\\b\\w{3,5}\\b')\n",
        "    words = pattern.findall(input_string)\n",
        "\n",
        "    return words\n",
        "\n",
        "text1= \"Python is a powerful programming language with many features.\"\n",
        "text2 = \"Regular expressions can be complex, but they are powerful tools.\"\n",
        "\n",
        "result_1 = find_words_of_lengths(text1)\n",
        "result_2 = find_words_of_lengths(text2)\n",
        "\n",
        "print(result_1)\n",
        "print(result_2)"
      ],
      "metadata": {
        "colab": {
          "base_uri": "https://localhost:8080/"
        },
        "id": "VIZ_KoUqa1Gv",
        "outputId": "c61565b1-252d-4b72-9487-46119b2f4375"
      },
      "execution_count": 113,
      "outputs": [
        {
          "output_type": "stream",
          "name": "stdout",
          "text": [
            "['with', 'many']\n",
            "['can', 'but', 'they', 'are', 'tools']\n"
          ]
        }
      ]
    },
    {
      "cell_type": "markdown",
      "source": [
        "Question 5- Create a function in Python to remove the parenthesis in a list of\n",
        "strings. The use of the re.compile() method is mandatory."
      ],
      "metadata": {
        "id": "oq0BAjd1KHOV"
      }
    },
    {
      "cell_type": "code",
      "source": [
        "import re\n",
        "\n",
        "def remove_parentheses(strings_list):\n",
        "    pattern = re.compile(r'\\s*\\((.*?)\\)\\s*')\n",
        "    modified_list = [pattern.sub(r'\\1', s) for s in strings_list]\n",
        "    return modified_list\n",
        "\n",
        "\n",
        "text = [\"example (.com)\", \"hr@fliprobo (.com)\", \"github (.com)\", \"Hello (Data Science World)\", \"Data (Scientist)\"]\n",
        "\n",
        "result = remove_parentheses(text)\n",
        "for modified_string in result:\n",
        "    print(modified_string)\n",
        "\n"
      ],
      "metadata": {
        "colab": {
          "base_uri": "https://localhost:8080/"
        },
        "id": "UH2hCc6mcrqM",
        "outputId": "0bdd1efa-4c88-4636-ae69-6406ae8e0300"
      },
      "execution_count": 114,
      "outputs": [
        {
          "output_type": "stream",
          "name": "stdout",
          "text": [
            "example.com\n",
            "hr@fliprobo.com\n",
            "github.com\n",
            "HelloData Science World\n",
            "DataScientist\n"
          ]
        }
      ]
    },
    {
      "cell_type": "markdown",
      "source": [
        "Question 6- Write a python program to remove the parenthesis area from the\n",
        "text stored in the text file using Regular Expression"
      ],
      "metadata": {
        "id": "FtitQg9NLQoP"
      }
    },
    {
      "cell_type": "code",
      "source": [
        "import re\n",
        "\n",
        "def remove_parentheses_from_text(input_text):\n",
        "    pattern = re.compile(r'\\s*\\((.*?)\\)\\s*')\n",
        "    modified_text = pattern.sub('', input_text)\n",
        "    return modified_text\n",
        "\n",
        "with open('/content/sample_data/Files/input.txt', 'r') as file:\n",
        "    input_text = file.read()\n",
        "\n",
        "output_text = remove_parentheses_from_text(input_text)\n",
        "print(output_text)\n"
      ],
      "metadata": {
        "colab": {
          "base_uri": "https://localhost:8080/"
        },
        "id": "uFrrYQC8eKsV",
        "outputId": "f99d3854-bb83-4872-fe4d-59ab0068fff2"
      },
      "execution_count": 115,
      "outputs": [
        {
          "output_type": "stream",
          "name": "stdout",
          "text": [
            "[\"example\", \"hr@fliprobo\", \"github\", \"Hello\", \"Data\"]\n"
          ]
        }
      ]
    },
    {
      "cell_type": "markdown",
      "source": [
        "Question 7- Write a regular expression in Python to split a string into uppercase\n",
        "letters"
      ],
      "metadata": {
        "id": "0ta7PPxsLq-N"
      }
    },
    {
      "cell_type": "code",
      "source": [
        "import re\n",
        "text = \"ImportanceOfRegularExpressionsInPython\"\n",
        "\n",
        "pattern = re.compile(r'[A-Z][a-z]*')\n",
        "result = pattern.findall(text)\n",
        "\n",
        "print(result)\n"
      ],
      "metadata": {
        "colab": {
          "base_uri": "https://localhost:8080/"
        },
        "id": "MkkqByKYka-f",
        "outputId": "a0ff8be4-fd8f-416d-f8ea-0cb5dfde2176"
      },
      "execution_count": 116,
      "outputs": [
        {
          "output_type": "stream",
          "name": "stdout",
          "text": [
            "['Importance', 'Of', 'Regular', 'Expressions', 'In', 'Python']\n"
          ]
        }
      ]
    },
    {
      "cell_type": "markdown",
      "source": [
        "Question 8- Create a function in python to insert spaces between words\n",
        "starting with numbers.\n"
      ],
      "metadata": {
        "id": "aaC9qXc_L6_c"
      }
    },
    {
      "cell_type": "code",
      "source": [
        "import re\n",
        "\n",
        "def insert_spaces(text):\n",
        "    pattern = re.compile(r'(?<=[a-zA-Z])(\\d)')\n",
        "    modified_text = pattern.sub(r' \\1', text)\n",
        "    return modified_text\n",
        "\n",
        "\n",
        "text = \"RegularExpression1IsAn2ImportantTopic3InPython\"\n",
        "result = insert_spaces(text)\n",
        "print(result)\n"
      ],
      "metadata": {
        "colab": {
          "base_uri": "https://localhost:8080/"
        },
        "id": "Lj24VTxRkcSr",
        "outputId": "26c5e6c4-636a-478c-82d5-90c88f36333c"
      },
      "execution_count": 117,
      "outputs": [
        {
          "output_type": "stream",
          "name": "stdout",
          "text": [
            "RegularExpression 1IsAn 2ImportantTopic 3InPython\n"
          ]
        }
      ]
    },
    {
      "cell_type": "markdown",
      "source": [
        "Question 9- Create a function in python to insert spaces between words\n",
        "starting with capital letters or with numbers"
      ],
      "metadata": {
        "id": "THTFOMxFNDAf"
      }
    },
    {
      "cell_type": "code",
      "source": [
        "import re\n",
        "\n",
        "def insert_spaces(text):\n",
        "  pattern = re.compile(r'(?<=[a-z0-9])(?=[A-Z\\d])|\\b(?=[A-Z\\d])')\n",
        "  modified_text = pattern.sub(r' ', text)\n",
        "\n",
        "  return modified_text\n",
        "\n",
        "text = \"RegularExpression1IsAn2ImportantTopic3InPython\"\n",
        "result = insert_spaces(text)\n",
        "\n",
        "print(result)\n"
      ],
      "metadata": {
        "colab": {
          "base_uri": "https://localhost:8080/"
        },
        "id": "cyJZ-VDoke60",
        "outputId": "54e26eb5-a3d6-4ec9-95ff-b36bb86f27d9"
      },
      "execution_count": 118,
      "outputs": [
        {
          "output_type": "stream",
          "name": "stdout",
          "text": [
            " Regular Expression 1 Is An 2 Important Topic 3 In Python\n"
          ]
        }
      ]
    },
    {
      "cell_type": "markdown",
      "source": [
        "Question 10- Use the github link below to read the data and create a\n",
        "dataframe. After creating the dataframe extract the first 6 letters of each country\n",
        "and store in the dataframe under a new column called first_five_letters."
      ],
      "metadata": {
        "id": "UefVpSAmO9hs"
      }
    },
    {
      "cell_type": "code",
      "source": [
        "import pandas as pd\n",
        "url = \"https://raw.githubusercontent.com/dsrscientist/DSData/master/happiness_score_dataset.csv\"\n",
        "df = pd.read_csv(url)\n",
        "df['first_five_letters'] = df['Country'].str[:6]\n",
        "df.head()\n"
      ],
      "metadata": {
        "colab": {
          "base_uri": "https://localhost:8080/",
          "height": 365
        },
        "id": "vwKYFWm5od8S",
        "outputId": "4caf6d48-7bcb-4b7d-eeb5-caf7da2f893b"
      },
      "execution_count": 119,
      "outputs": [
        {
          "output_type": "execute_result",
          "data": {
            "text/plain": [
              "       Country          Region  Happiness Rank  Happiness Score  \\\n",
              "0  Switzerland  Western Europe               1            7.587   \n",
              "1      Iceland  Western Europe               2            7.561   \n",
              "2      Denmark  Western Europe               3            7.527   \n",
              "3       Norway  Western Europe               4            7.522   \n",
              "4       Canada   North America               5            7.427   \n",
              "\n",
              "   Standard Error  Economy (GDP per Capita)   Family  \\\n",
              "0         0.03411                   1.39651  1.34951   \n",
              "1         0.04884                   1.30232  1.40223   \n",
              "2         0.03328                   1.32548  1.36058   \n",
              "3         0.03880                   1.45900  1.33095   \n",
              "4         0.03553                   1.32629  1.32261   \n",
              "\n",
              "   Health (Life Expectancy)  Freedom  Trust (Government Corruption)  \\\n",
              "0                   0.94143  0.66557                        0.41978   \n",
              "1                   0.94784  0.62877                        0.14145   \n",
              "2                   0.87464  0.64938                        0.48357   \n",
              "3                   0.88521  0.66973                        0.36503   \n",
              "4                   0.90563  0.63297                        0.32957   \n",
              "\n",
              "   Generosity  Dystopia Residual first_five_letters  \n",
              "0     0.29678            2.51738             Switze  \n",
              "1     0.43630            2.70201             Icelan  \n",
              "2     0.34139            2.49204             Denmar  \n",
              "3     0.34699            2.46531             Norway  \n",
              "4     0.45811            2.45176             Canada  "
            ],
            "text/html": [
              "\n",
              "  <div id=\"df-ef1f6cf7-288f-4033-bde4-7b677efafac7\" class=\"colab-df-container\">\n",
              "    <div>\n",
              "<style scoped>\n",
              "    .dataframe tbody tr th:only-of-type {\n",
              "        vertical-align: middle;\n",
              "    }\n",
              "\n",
              "    .dataframe tbody tr th {\n",
              "        vertical-align: top;\n",
              "    }\n",
              "\n",
              "    .dataframe thead th {\n",
              "        text-align: right;\n",
              "    }\n",
              "</style>\n",
              "<table border=\"1\" class=\"dataframe\">\n",
              "  <thead>\n",
              "    <tr style=\"text-align: right;\">\n",
              "      <th></th>\n",
              "      <th>Country</th>\n",
              "      <th>Region</th>\n",
              "      <th>Happiness Rank</th>\n",
              "      <th>Happiness Score</th>\n",
              "      <th>Standard Error</th>\n",
              "      <th>Economy (GDP per Capita)</th>\n",
              "      <th>Family</th>\n",
              "      <th>Health (Life Expectancy)</th>\n",
              "      <th>Freedom</th>\n",
              "      <th>Trust (Government Corruption)</th>\n",
              "      <th>Generosity</th>\n",
              "      <th>Dystopia Residual</th>\n",
              "      <th>first_five_letters</th>\n",
              "    </tr>\n",
              "  </thead>\n",
              "  <tbody>\n",
              "    <tr>\n",
              "      <th>0</th>\n",
              "      <td>Switzerland</td>\n",
              "      <td>Western Europe</td>\n",
              "      <td>1</td>\n",
              "      <td>7.587</td>\n",
              "      <td>0.03411</td>\n",
              "      <td>1.39651</td>\n",
              "      <td>1.34951</td>\n",
              "      <td>0.94143</td>\n",
              "      <td>0.66557</td>\n",
              "      <td>0.41978</td>\n",
              "      <td>0.29678</td>\n",
              "      <td>2.51738</td>\n",
              "      <td>Switze</td>\n",
              "    </tr>\n",
              "    <tr>\n",
              "      <th>1</th>\n",
              "      <td>Iceland</td>\n",
              "      <td>Western Europe</td>\n",
              "      <td>2</td>\n",
              "      <td>7.561</td>\n",
              "      <td>0.04884</td>\n",
              "      <td>1.30232</td>\n",
              "      <td>1.40223</td>\n",
              "      <td>0.94784</td>\n",
              "      <td>0.62877</td>\n",
              "      <td>0.14145</td>\n",
              "      <td>0.43630</td>\n",
              "      <td>2.70201</td>\n",
              "      <td>Icelan</td>\n",
              "    </tr>\n",
              "    <tr>\n",
              "      <th>2</th>\n",
              "      <td>Denmark</td>\n",
              "      <td>Western Europe</td>\n",
              "      <td>3</td>\n",
              "      <td>7.527</td>\n",
              "      <td>0.03328</td>\n",
              "      <td>1.32548</td>\n",
              "      <td>1.36058</td>\n",
              "      <td>0.87464</td>\n",
              "      <td>0.64938</td>\n",
              "      <td>0.48357</td>\n",
              "      <td>0.34139</td>\n",
              "      <td>2.49204</td>\n",
              "      <td>Denmar</td>\n",
              "    </tr>\n",
              "    <tr>\n",
              "      <th>3</th>\n",
              "      <td>Norway</td>\n",
              "      <td>Western Europe</td>\n",
              "      <td>4</td>\n",
              "      <td>7.522</td>\n",
              "      <td>0.03880</td>\n",
              "      <td>1.45900</td>\n",
              "      <td>1.33095</td>\n",
              "      <td>0.88521</td>\n",
              "      <td>0.66973</td>\n",
              "      <td>0.36503</td>\n",
              "      <td>0.34699</td>\n",
              "      <td>2.46531</td>\n",
              "      <td>Norway</td>\n",
              "    </tr>\n",
              "    <tr>\n",
              "      <th>4</th>\n",
              "      <td>Canada</td>\n",
              "      <td>North America</td>\n",
              "      <td>5</td>\n",
              "      <td>7.427</td>\n",
              "      <td>0.03553</td>\n",
              "      <td>1.32629</td>\n",
              "      <td>1.32261</td>\n",
              "      <td>0.90563</td>\n",
              "      <td>0.63297</td>\n",
              "      <td>0.32957</td>\n",
              "      <td>0.45811</td>\n",
              "      <td>2.45176</td>\n",
              "      <td>Canada</td>\n",
              "    </tr>\n",
              "  </tbody>\n",
              "</table>\n",
              "</div>\n",
              "    <div class=\"colab-df-buttons\">\n",
              "\n",
              "  <div class=\"colab-df-container\">\n",
              "    <button class=\"colab-df-convert\" onclick=\"convertToInteractive('df-ef1f6cf7-288f-4033-bde4-7b677efafac7')\"\n",
              "            title=\"Convert this dataframe to an interactive table.\"\n",
              "            style=\"display:none;\">\n",
              "\n",
              "  <svg xmlns=\"http://www.w3.org/2000/svg\" height=\"24px\" viewBox=\"0 -960 960 960\">\n",
              "    <path d=\"M120-120v-720h720v720H120Zm60-500h600v-160H180v160Zm220 220h160v-160H400v160Zm0 220h160v-160H400v160ZM180-400h160v-160H180v160Zm440 0h160v-160H620v160ZM180-180h160v-160H180v160Zm440 0h160v-160H620v160Z\"/>\n",
              "  </svg>\n",
              "    </button>\n",
              "\n",
              "  <style>\n",
              "    .colab-df-container {\n",
              "      display:flex;\n",
              "      gap: 12px;\n",
              "    }\n",
              "\n",
              "    .colab-df-convert {\n",
              "      background-color: #E8F0FE;\n",
              "      border: none;\n",
              "      border-radius: 50%;\n",
              "      cursor: pointer;\n",
              "      display: none;\n",
              "      fill: #1967D2;\n",
              "      height: 32px;\n",
              "      padding: 0 0 0 0;\n",
              "      width: 32px;\n",
              "    }\n",
              "\n",
              "    .colab-df-convert:hover {\n",
              "      background-color: #E2EBFA;\n",
              "      box-shadow: 0px 1px 2px rgba(60, 64, 67, 0.3), 0px 1px 3px 1px rgba(60, 64, 67, 0.15);\n",
              "      fill: #174EA6;\n",
              "    }\n",
              "\n",
              "    .colab-df-buttons div {\n",
              "      margin-bottom: 4px;\n",
              "    }\n",
              "\n",
              "    [theme=dark] .colab-df-convert {\n",
              "      background-color: #3B4455;\n",
              "      fill: #D2E3FC;\n",
              "    }\n",
              "\n",
              "    [theme=dark] .colab-df-convert:hover {\n",
              "      background-color: #434B5C;\n",
              "      box-shadow: 0px 1px 3px 1px rgba(0, 0, 0, 0.15);\n",
              "      filter: drop-shadow(0px 1px 2px rgba(0, 0, 0, 0.3));\n",
              "      fill: #FFFFFF;\n",
              "    }\n",
              "  </style>\n",
              "\n",
              "    <script>\n",
              "      const buttonEl =\n",
              "        document.querySelector('#df-ef1f6cf7-288f-4033-bde4-7b677efafac7 button.colab-df-convert');\n",
              "      buttonEl.style.display =\n",
              "        google.colab.kernel.accessAllowed ? 'block' : 'none';\n",
              "\n",
              "      async function convertToInteractive(key) {\n",
              "        const element = document.querySelector('#df-ef1f6cf7-288f-4033-bde4-7b677efafac7');\n",
              "        const dataTable =\n",
              "          await google.colab.kernel.invokeFunction('convertToInteractive',\n",
              "                                                    [key], {});\n",
              "        if (!dataTable) return;\n",
              "\n",
              "        const docLinkHtml = 'Like what you see? Visit the ' +\n",
              "          '<a target=\"_blank\" href=https://colab.research.google.com/notebooks/data_table.ipynb>data table notebook</a>'\n",
              "          + ' to learn more about interactive tables.';\n",
              "        element.innerHTML = '';\n",
              "        dataTable['output_type'] = 'display_data';\n",
              "        await google.colab.output.renderOutput(dataTable, element);\n",
              "        const docLink = document.createElement('div');\n",
              "        docLink.innerHTML = docLinkHtml;\n",
              "        element.appendChild(docLink);\n",
              "      }\n",
              "    </script>\n",
              "  </div>\n",
              "\n",
              "\n",
              "<div id=\"df-7e0ca018-43df-4031-a668-aedb9cd0d96f\">\n",
              "  <button class=\"colab-df-quickchart\" onclick=\"quickchart('df-7e0ca018-43df-4031-a668-aedb9cd0d96f')\"\n",
              "            title=\"Suggest charts\"\n",
              "            style=\"display:none;\">\n",
              "\n",
              "<svg xmlns=\"http://www.w3.org/2000/svg\" height=\"24px\"viewBox=\"0 0 24 24\"\n",
              "     width=\"24px\">\n",
              "    <g>\n",
              "        <path d=\"M19 3H5c-1.1 0-2 .9-2 2v14c0 1.1.9 2 2 2h14c1.1 0 2-.9 2-2V5c0-1.1-.9-2-2-2zM9 17H7v-7h2v7zm4 0h-2V7h2v10zm4 0h-2v-4h2v4z\"/>\n",
              "    </g>\n",
              "</svg>\n",
              "  </button>\n",
              "\n",
              "<style>\n",
              "  .colab-df-quickchart {\n",
              "      --bg-color: #E8F0FE;\n",
              "      --fill-color: #1967D2;\n",
              "      --hover-bg-color: #E2EBFA;\n",
              "      --hover-fill-color: #174EA6;\n",
              "      --disabled-fill-color: #AAA;\n",
              "      --disabled-bg-color: #DDD;\n",
              "  }\n",
              "\n",
              "  [theme=dark] .colab-df-quickchart {\n",
              "      --bg-color: #3B4455;\n",
              "      --fill-color: #D2E3FC;\n",
              "      --hover-bg-color: #434B5C;\n",
              "      --hover-fill-color: #FFFFFF;\n",
              "      --disabled-bg-color: #3B4455;\n",
              "      --disabled-fill-color: #666;\n",
              "  }\n",
              "\n",
              "  .colab-df-quickchart {\n",
              "    background-color: var(--bg-color);\n",
              "    border: none;\n",
              "    border-radius: 50%;\n",
              "    cursor: pointer;\n",
              "    display: none;\n",
              "    fill: var(--fill-color);\n",
              "    height: 32px;\n",
              "    padding: 0;\n",
              "    width: 32px;\n",
              "  }\n",
              "\n",
              "  .colab-df-quickchart:hover {\n",
              "    background-color: var(--hover-bg-color);\n",
              "    box-shadow: 0 1px 2px rgba(60, 64, 67, 0.3), 0 1px 3px 1px rgba(60, 64, 67, 0.15);\n",
              "    fill: var(--button-hover-fill-color);\n",
              "  }\n",
              "\n",
              "  .colab-df-quickchart-complete:disabled,\n",
              "  .colab-df-quickchart-complete:disabled:hover {\n",
              "    background-color: var(--disabled-bg-color);\n",
              "    fill: var(--disabled-fill-color);\n",
              "    box-shadow: none;\n",
              "  }\n",
              "\n",
              "  .colab-df-spinner {\n",
              "    border: 2px solid var(--fill-color);\n",
              "    border-color: transparent;\n",
              "    border-bottom-color: var(--fill-color);\n",
              "    animation:\n",
              "      spin 1s steps(1) infinite;\n",
              "  }\n",
              "\n",
              "  @keyframes spin {\n",
              "    0% {\n",
              "      border-color: transparent;\n",
              "      border-bottom-color: var(--fill-color);\n",
              "      border-left-color: var(--fill-color);\n",
              "    }\n",
              "    20% {\n",
              "      border-color: transparent;\n",
              "      border-left-color: var(--fill-color);\n",
              "      border-top-color: var(--fill-color);\n",
              "    }\n",
              "    30% {\n",
              "      border-color: transparent;\n",
              "      border-left-color: var(--fill-color);\n",
              "      border-top-color: var(--fill-color);\n",
              "      border-right-color: var(--fill-color);\n",
              "    }\n",
              "    40% {\n",
              "      border-color: transparent;\n",
              "      border-right-color: var(--fill-color);\n",
              "      border-top-color: var(--fill-color);\n",
              "    }\n",
              "    60% {\n",
              "      border-color: transparent;\n",
              "      border-right-color: var(--fill-color);\n",
              "    }\n",
              "    80% {\n",
              "      border-color: transparent;\n",
              "      border-right-color: var(--fill-color);\n",
              "      border-bottom-color: var(--fill-color);\n",
              "    }\n",
              "    90% {\n",
              "      border-color: transparent;\n",
              "      border-bottom-color: var(--fill-color);\n",
              "    }\n",
              "  }\n",
              "</style>\n",
              "\n",
              "  <script>\n",
              "    async function quickchart(key) {\n",
              "      const quickchartButtonEl =\n",
              "        document.querySelector('#' + key + ' button');\n",
              "      quickchartButtonEl.disabled = true;  // To prevent multiple clicks.\n",
              "      quickchartButtonEl.classList.add('colab-df-spinner');\n",
              "      try {\n",
              "        const charts = await google.colab.kernel.invokeFunction(\n",
              "            'suggestCharts', [key], {});\n",
              "      } catch (error) {\n",
              "        console.error('Error during call to suggestCharts:', error);\n",
              "      }\n",
              "      quickchartButtonEl.classList.remove('colab-df-spinner');\n",
              "      quickchartButtonEl.classList.add('colab-df-quickchart-complete');\n",
              "    }\n",
              "    (() => {\n",
              "      let quickchartButtonEl =\n",
              "        document.querySelector('#df-7e0ca018-43df-4031-a668-aedb9cd0d96f button');\n",
              "      quickchartButtonEl.style.display =\n",
              "        google.colab.kernel.accessAllowed ? 'block' : 'none';\n",
              "    })();\n",
              "  </script>\n",
              "</div>\n",
              "    </div>\n",
              "  </div>\n"
            ],
            "application/vnd.google.colaboratory.intrinsic+json": {
              "type": "dataframe",
              "variable_name": "df",
              "summary": "{\n  \"name\": \"df\",\n  \"rows\": 158,\n  \"fields\": [\n    {\n      \"column\": \"Country\",\n      \"properties\": {\n        \"dtype\": \"string\",\n        \"num_unique_values\": 158,\n        \"samples\": [\n          \"Myanmar\",\n          \"Japan\",\n          \"Egypt\"\n        ],\n        \"semantic_type\": \"\",\n        \"description\": \"\"\n      }\n    },\n    {\n      \"column\": \"Region\",\n      \"properties\": {\n        \"dtype\": \"category\",\n        \"num_unique_values\": 10,\n        \"samples\": [\n          \"Sub-Saharan Africa\",\n          \"North America\",\n          \"Southeastern Asia\"\n        ],\n        \"semantic_type\": \"\",\n        \"description\": \"\"\n      }\n    },\n    {\n      \"column\": \"Happiness Rank\",\n      \"properties\": {\n        \"dtype\": \"number\",\n        \"std\": 45,\n        \"min\": 1,\n        \"max\": 158,\n        \"num_unique_values\": 157,\n        \"samples\": [\n          128,\n          46,\n          135\n        ],\n        \"semantic_type\": \"\",\n        \"description\": \"\"\n      }\n    },\n    {\n      \"column\": \"Happiness Score\",\n      \"properties\": {\n        \"dtype\": \"number\",\n        \"std\": 1.1450101349520665,\n        \"min\": 2.839,\n        \"max\": 7.587,\n        \"num_unique_values\": 157,\n        \"samples\": [\n          4.332,\n          5.987,\n          4.194\n        ],\n        \"semantic_type\": \"\",\n        \"description\": \"\"\n      }\n    },\n    {\n      \"column\": \"Standard Error\",\n      \"properties\": {\n        \"dtype\": \"number\",\n        \"std\": 0.017146178556969306,\n        \"min\": 0.01848,\n        \"max\": 0.13693,\n        \"num_unique_values\": 153,\n        \"samples\": [\n          0.06607,\n          0.04802,\n          0.06698\n        ],\n        \"semantic_type\": \"\",\n        \"description\": \"\"\n      }\n    },\n    {\n      \"column\": \"Economy (GDP per Capita)\",\n      \"properties\": {\n        \"dtype\": \"number\",\n        \"std\": 0.40312077853791,\n        \"min\": 0.0,\n        \"max\": 1.69042,\n        \"num_unique_values\": 158,\n        \"samples\": [\n          0.27108,\n          1.27074,\n          0.8818\n        ],\n        \"semantic_type\": \"\",\n        \"description\": \"\"\n      }\n    },\n    {\n      \"column\": \"Family\",\n      \"properties\": {\n        \"dtype\": \"number\",\n        \"std\": 0.27236908600791543,\n        \"min\": 0.0,\n        \"max\": 1.40223,\n        \"num_unique_values\": 158,\n        \"samples\": [\n          0.70905,\n          1.25712,\n          0.747\n        ],\n        \"semantic_type\": \"\",\n        \"description\": \"\"\n      }\n    },\n    {\n      \"column\": \"Health (Life Expectancy)\",\n      \"properties\": {\n        \"dtype\": \"number\",\n        \"std\": 0.24707776630217207,\n        \"min\": 0.0,\n        \"max\": 1.02525,\n        \"num_unique_values\": 157,\n        \"samples\": [\n          0.04776,\n          0.99111,\n          0.61712\n        ],\n        \"semantic_type\": \"\",\n        \"description\": \"\"\n      }\n    },\n    {\n      \"column\": \"Freedom\",\n      \"properties\": {\n        \"dtype\": \"number\",\n        \"std\": 0.15069278393767793,\n        \"min\": 0.0,\n        \"max\": 0.66973,\n        \"num_unique_values\": 158,\n        \"samples\": [\n          0.44017,\n          0.49615,\n          0.17288\n        ],\n        \"semantic_type\": \"\",\n        \"description\": \"\"\n      }\n    },\n    {\n      \"column\": \"Trust (Government Corruption)\",\n      \"properties\": {\n        \"dtype\": \"number\",\n        \"std\": 0.12003407357455917,\n        \"min\": 0.0,\n        \"max\": 0.55191,\n        \"num_unique_values\": 157,\n        \"samples\": [\n          0.12474,\n          0.07857,\n          0.06324\n        ],\n        \"semantic_type\": \"\",\n        \"description\": \"\"\n      }\n    },\n    {\n      \"column\": \"Generosity\",\n      \"properties\": {\n        \"dtype\": \"number\",\n        \"std\": 0.12668493402020534,\n        \"min\": 0.0,\n        \"max\": 0.79588,\n        \"num_unique_values\": 158,\n        \"samples\": [\n          0.79588,\n          0.10705,\n          0.11291\n        ],\n        \"semantic_type\": \"\",\n        \"description\": \"\"\n      }\n    },\n    {\n      \"column\": \"Dystopia Residual\",\n      \"properties\": {\n        \"dtype\": \"number\",\n        \"std\": 0.5535497923037984,\n        \"min\": 0.32858,\n        \"max\": 3.60214,\n        \"num_unique_values\": 158,\n        \"samples\": [\n          1.41805,\n          1.68435,\n          1.59927\n        ],\n        \"semantic_type\": \"\",\n        \"description\": \"\"\n      }\n    },\n    {\n      \"column\": \"first_five_letters\",\n      \"properties\": {\n        \"dtype\": \"string\",\n        \"num_unique_values\": 153,\n        \"samples\": [\n          \"Serbia\",\n          \"Latvia\",\n          \"Mongol\"\n        ],\n        \"semantic_type\": \"\",\n        \"description\": \"\"\n      }\n    }\n  ]\n}"
            }
          },
          "metadata": {},
          "execution_count": 119
        }
      ]
    },
    {
      "cell_type": "markdown",
      "source": [
        "Question 11- Write a Python program to match a string that contains only\n",
        "upper and lowercase letters, numbers, and underscores."
      ],
      "metadata": {
        "id": "Dq2-3rKBPLIG"
      }
    },
    {
      "cell_type": "code",
      "source": [
        "import re\n",
        "def is_valid_string(s):\n",
        "    pattern = re.compile(r'^[a-zA-Z0-9_]+$')\n",
        "    match = pattern.match(s)\n",
        "    return bool(match)\n",
        "\n",
        "test_string1 = \"Python_3.8_Release\"\n",
        "test_string2 = \"Project_2024\"\n",
        "\n",
        "print(f'{test_string1}: {is_valid_string(test_string1)}')\n",
        "print(f'{test_string2}: {is_valid_string(test_string2)}')\n"
      ],
      "metadata": {
        "colab": {
          "base_uri": "https://localhost:8080/"
        },
        "id": "xkLqka3hpIaB",
        "outputId": "01f33d4b-63bc-4b92-b39b-9ad0070c2362"
      },
      "execution_count": 120,
      "outputs": [
        {
          "output_type": "stream",
          "name": "stdout",
          "text": [
            "Python_3.8_Release: False\n",
            "Project_2024: True\n"
          ]
        }
      ]
    },
    {
      "cell_type": "markdown",
      "source": [
        "Question 12- Write a Python program where a string will start with a specific\n",
        "number.\n",
        "\n",
        "\n"
      ],
      "metadata": {
        "id": "udH1uRHdQb7D"
      }
    },
    {
      "cell_type": "code",
      "source": [
        "import re\n",
        "\n",
        "def starts_with_number(input_string, specific_number):\n",
        "    pattern = re.compile(f'^{specific_number}')\n",
        "    match = pattern.match(input_string)\n",
        "    return bool(match)\n",
        "\n",
        "string1 = \"123abc\"\n",
        "string2 = \"456xyz\"\n",
        "specific_number = 123\n",
        "\n",
        "print(f'{string1} starts with {specific_number}: {starts_with_number(test_string1, specific_number)}')\n",
        "print(f'{string2} starts with {specific_number}: {starts_with_number(test_string2, specific_number)}')\n"
      ],
      "metadata": {
        "colab": {
          "base_uri": "https://localhost:8080/"
        },
        "id": "1296ZJDaquxD",
        "outputId": "9fac77cc-beb4-4e54-ade1-8fb869ed6851"
      },
      "execution_count": 121,
      "outputs": [
        {
          "output_type": "stream",
          "name": "stdout",
          "text": [
            "123abc starts with 123: False\n",
            "456xyz starts with 123: False\n"
          ]
        }
      ]
    },
    {
      "cell_type": "markdown",
      "source": [
        "Question 13- Write a Python program to remove leading zeros from an IP\n",
        "address"
      ],
      "metadata": {
        "id": "-PT9FuniTIKY"
      }
    },
    {
      "cell_type": "code",
      "source": [
        "import re\n",
        "\n",
        "def remove_leading_zeros(ip_address_str):\n",
        "\n",
        "    pattern = re.compile(r'\\b0*(\\d+)\\b')\n",
        "    formatted_ip = pattern.sub(r'\\1', ip_address_str)\n",
        "\n",
        "    return formatted_ip\n",
        "\n",
        "ip_address_with_zeros = \"192.001.001.001\"\n",
        "ip_address_without_zeros = remove_leading_zeros(ip_address_with_zeros)\n",
        "\n",
        "print(f'Original IP address: {ip_address_with_zeros}')\n",
        "print(f'IP address without leading zeros: {ip_address_without_zeros}')\n"
      ],
      "metadata": {
        "colab": {
          "base_uri": "https://localhost:8080/"
        },
        "id": "7r4RpnUXrW87",
        "outputId": "7fa8122e-3e78-4ed0-be87-77747b128e7a"
      },
      "execution_count": 122,
      "outputs": [
        {
          "output_type": "stream",
          "name": "stdout",
          "text": [
            "Original IP address: 192.001.001.001\n",
            "IP address without leading zeros: 192.1.1.1\n"
          ]
        }
      ]
    },
    {
      "cell_type": "markdown",
      "source": [
        "Question 14- Write a regular expression in python to match a date string in the\n",
        "form of Month name followed by day number and year stored in a text file."
      ],
      "metadata": {
        "id": "CmMpmbjzTiJ1"
      }
    },
    {
      "cell_type": "code",
      "source": [
        "import re\n",
        "\n",
        "def extract_dates_from_file(file_path):\n",
        "    with open(file_path, 'r') as file:\n",
        "        text = file.read()\n",
        "    pattern = re.compile(r'\\b(?:January|February|March|April|May|June|July|August|September|October|November|December)\\s+\\d{1,2}(?:st|nd|rd|th)?\\s+\\d{4}\\b')\n",
        "    dates = pattern.findall(text)\n",
        "\n",
        "    return dates\n",
        "\n",
        "file_path = '/content/sample_data/Files/dates.text'\n",
        "result = extract_dates_from_file(file_path)\n",
        "\n",
        "print('Extracted Date Strings:')\n",
        "for date in result:\n",
        "    print(date)\n"
      ],
      "metadata": {
        "colab": {
          "base_uri": "https://localhost:8080/"
        },
        "id": "S7qJKdVNsDna",
        "outputId": "c731caef-9b5e-4249-bb82-21edb43350e6"
      },
      "execution_count": 123,
      "outputs": [
        {
          "output_type": "stream",
          "name": "stdout",
          "text": [
            "Extracted Date Strings:\n",
            "August 15th 1947\n"
          ]
        }
      ]
    },
    {
      "cell_type": "markdown",
      "source": [
        "Question 15- Write a Python program to search some literals strings in a string.\n",
        "Sample text : 'The quick brown fox jumps over the lazy dog.'\n",
        "Searched words : 'fox', 'dog', 'horse"
      ],
      "metadata": {
        "id": "aeqkMKI6gamc"
      }
    },
    {
      "cell_type": "code",
      "source": [
        "import re\n",
        "\n",
        "def search_literals(text, words):\n",
        "    results = {}\n",
        "    for word in words:\n",
        "        pattern = re.compile(re.escape(word))\n",
        "        match = pattern.search(text)\n",
        "        results[word] = bool(match)\n",
        "    return results\n",
        "\n",
        "text = 'The quick brown fox jumps over the lazy dog.'\n",
        "searched_words = ['fox', 'dog', 'horse']\n",
        "search_results = search_literals(text, searched_words)\n",
        "\n",
        "for word, found in search_results.items():\n",
        "    if found:\n",
        "        print(f'The word \"{word}\" is present in the text.')\n",
        "    else:\n",
        "        print(f'The word \"{word}\" is not present in the text.')\n"
      ],
      "metadata": {
        "colab": {
          "base_uri": "https://localhost:8080/"
        },
        "id": "Naswi6H2s5Uk",
        "outputId": "dfcdc72b-9184-4480-9023-eca4bc2313cc"
      },
      "execution_count": 124,
      "outputs": [
        {
          "output_type": "stream",
          "name": "stdout",
          "text": [
            "The word \"fox\" is present in the text.\n",
            "The word \"dog\" is present in the text.\n",
            "The word \"horse\" is not present in the text.\n"
          ]
        }
      ]
    },
    {
      "cell_type": "markdown",
      "source": [
        "Question 16- Write a Python program to search a literals string in a string and\n",
        "also find the location within the original string where the pattern occurs\n",
        "Sample text : 'The quick brown fox jumps over the lazy dog.'\n",
        "Searched words : 'fox'"
      ],
      "metadata": {
        "id": "w_PIBwV3g22M"
      }
    },
    {
      "cell_type": "code",
      "source": [
        "import re\n",
        "\n",
        "def search_literals_with_location(text, word):\n",
        "    pattern = re.compile(re.escape(word))\n",
        "    match = pattern.search(text)\n",
        "\n",
        "    if match:\n",
        "        start_location = match.start()\n",
        "        end_location = match.end()\n",
        "        return f'The word \"{word}\" is present in the text. Location: {start_location}-{end_location}'\n",
        "    else:\n",
        "        return f'The word \"{word}\" is not present in the text.'\n",
        "\n",
        "text = 'The quick brown fox jumps over the lazy dog.'\n",
        "searched_word = 'fox'\n",
        "search_result = search_literals_with_location(text, searched_word)\n",
        "print(search_result)\n"
      ],
      "metadata": {
        "colab": {
          "base_uri": "https://localhost:8080/"
        },
        "id": "MgX9wBs8g8_6",
        "outputId": "7e8c0e06-6c74-4c98-9696-d12d19f51a06"
      },
      "execution_count": 125,
      "outputs": [
        {
          "output_type": "stream",
          "name": "stdout",
          "text": [
            "The word \"fox\" is present in the text. Location: 16-19\n"
          ]
        }
      ]
    },
    {
      "cell_type": "markdown",
      "source": [
        "Question 17- Write a Python program to find the substrings within a string."
      ],
      "metadata": {
        "id": "CpLo2UmZTvIV"
      }
    },
    {
      "cell_type": "code",
      "source": [
        "import re\n",
        "\n",
        "def find_substrings(text, pattern):\n",
        "    matches = re.findall(pattern, text)\n",
        "    return matches\n",
        "\n",
        "text = 'Python exercises, PHP exercises, C# exercises'\n",
        "pattern = 'exercises'\n",
        "\n",
        "result = find_substrings(text, pattern)\n",
        "print(f'Substrings matching \"{pattern}\": {result}')\n"
      ],
      "metadata": {
        "colab": {
          "base_uri": "https://localhost:8080/"
        },
        "id": "fcEUBYZhvhq1",
        "outputId": "0e2272be-0b44-4fb6-9d56-6de68b38e75a"
      },
      "execution_count": 126,
      "outputs": [
        {
          "output_type": "stream",
          "name": "stdout",
          "text": [
            "Substrings matching \"exercises\": ['exercises', 'exercises', 'exercises']\n"
          ]
        }
      ]
    },
    {
      "cell_type": "markdown",
      "source": [
        "Question 18- Write a Python program to find the occurrence and position of the\n",
        "substrings within a string"
      ],
      "metadata": {
        "id": "A8ov-ppHUeLm"
      }
    },
    {
      "cell_type": "code",
      "source": [
        "def find_occurrences_and_positions(text, substring):\n",
        "    occurrences = []\n",
        "    start_position = -1\n",
        "\n",
        "    while True:\n",
        "        start_position = text.find(substring, start_position + 1)\n",
        "\n",
        "        if start_position == -1:\n",
        "            break\n",
        "\n",
        "        occurrences.append((substring, start_position))\n",
        "    return occurrences\n",
        "\n",
        "text = 'Python exercises, PHP exercises, C# exercises'\n",
        "substring = 'exercises'\n",
        "\n",
        "result = find_occurrences_and_positions(text,substring)\n",
        "\n",
        "print(f'Occurrences and positions of \"{substring}\": {result}')\n"
      ],
      "metadata": {
        "colab": {
          "base_uri": "https://localhost:8080/"
        },
        "id": "in5aT1w_wGld",
        "outputId": "46801c59-11c8-4665-c57c-48732946a838"
      },
      "execution_count": 127,
      "outputs": [
        {
          "output_type": "stream",
          "name": "stdout",
          "text": [
            "Occurrences and positions of \"exercises\": [('exercises', 7), ('exercises', 22), ('exercises', 36)]\n"
          ]
        }
      ]
    },
    {
      "cell_type": "markdown",
      "source": [
        "Question 19- Write a Python program to convert a date of yyyy-mm-dd format\n",
        "to dd-mm-yyyy format."
      ],
      "metadata": {
        "id": "TxSsxnfuVPgM"
      }
    },
    {
      "cell_type": "code",
      "source": [
        "import re\n",
        "\n",
        "def convert_date_format(input_date):\n",
        "    pattern = re.compile(r'(\\d{4})-(\\d{2})-(\\d{2})')\n",
        "\n",
        "    formatted_date = re.sub(pattern, r'\\3-\\2-\\1', input_date)\n",
        "\n",
        "    return formatted_date\n",
        "\n",
        "input_date = '2022-03-06'\n",
        "output_date = convert_date_format(input_date)\n",
        "\n",
        "print(f'Original date: {input_date}')\n",
        "print(f'Converted date: {output_date}')\n"
      ],
      "metadata": {
        "colab": {
          "base_uri": "https://localhost:8080/"
        },
        "id": "FbDyZolryKvZ",
        "outputId": "b048b207-dad3-48bf-9de0-b4536b3f09d4"
      },
      "execution_count": 128,
      "outputs": [
        {
          "output_type": "stream",
          "name": "stdout",
          "text": [
            "Original date: 2022-03-06\n",
            "Converted date: 06-03-2022\n"
          ]
        }
      ]
    },
    {
      "cell_type": "markdown",
      "source": [
        "Question 20- Create a function in python to find all decimal numbers with a\n",
        "precision of 1 or 2 in a string. The use of the re.compile() method is mandatory"
      ],
      "metadata": {
        "id": "my-xpoOCXQZu"
      }
    },
    {
      "cell_type": "code",
      "source": [
        "import re\n",
        "\n",
        "def find_decimal_numbers(text):\n",
        "\n",
        "    pattern = re.compile(r'\\b\\d+\\.\\d{1,2}\\b')\n",
        "\n",
        "    matches = pattern.findall(text)\n",
        "\n",
        "    return matches\n",
        "\n",
        "text = \"01.12 0132.123 2.31875 145.8 3.01 27.25 0.25\"\n",
        "result = find_decimal_numbers(text)\n",
        "print(f'Decimal numbers with precision of 1 or 2: {result}')\n"
      ],
      "metadata": {
        "colab": {
          "base_uri": "https://localhost:8080/"
        },
        "id": "8ZbHe1j2yg4z",
        "outputId": "6946c113-fd7f-438f-e400-c51317a23cd0"
      },
      "execution_count": 129,
      "outputs": [
        {
          "output_type": "stream",
          "name": "stdout",
          "text": [
            "Decimal numbers with precision of 1 or 2: ['01.12', '145.8', '3.01', '27.25', '0.25']\n"
          ]
        }
      ]
    },
    {
      "cell_type": "markdown",
      "source": [
        "Question 21- Write a Python program to separate and print the numbers and\n",
        "their position of a given string"
      ],
      "metadata": {
        "id": "Am9TzyXQYmHl"
      }
    },
    {
      "cell_type": "code",
      "source": [
        "import re\n",
        "\n",
        "def extract_numbers_with_positions(text):\n",
        "    number_pattern = re.compile(r'\\b\\d+\\b')\n",
        "    matches = [(match.group(), match.start()) for match in number_pattern.finditer(text)]\n",
        "    return matches\n",
        "\n",
        "text = \"The price of the product is $20.99, and the discount is 15%. The total is 18.75.\"\n",
        "result = extract_numbers_with_positions(text)\n",
        "\n",
        "print(f'Numbers and their positions in the text:')\n",
        "for number, position in result:\n",
        "    print(f'Number: {number}, Position: {position}')\n"
      ],
      "metadata": {
        "colab": {
          "base_uri": "https://localhost:8080/"
        },
        "id": "F_J2ACRj0HLb",
        "outputId": "6c08859a-501c-4e66-90fa-4082f3316379"
      },
      "execution_count": 130,
      "outputs": [
        {
          "output_type": "stream",
          "name": "stdout",
          "text": [
            "Numbers and their positions in the text:\n",
            "Number: 20, Position: 29\n",
            "Number: 99, Position: 32\n",
            "Number: 15, Position: 56\n",
            "Number: 18, Position: 74\n",
            "Number: 75, Position: 77\n"
          ]
        }
      ]
    },
    {
      "cell_type": "markdown",
      "source": [
        "Question 22- Write a regular expression in python program to extract\n",
        "maximum/largest numeric value from a string"
      ],
      "metadata": {
        "id": "2IqoxOmRYqOc"
      }
    },
    {
      "cell_type": "code",
      "source": [
        "import re\n",
        "\n",
        "def extract_maximum_numeric_value(text):\n",
        "    number_pattern = re.compile(r'\\b\\d+\\b')\n",
        "    numbers = map(int, number_pattern.findall(text))\n",
        "    max_value = max(numbers, default=None)\n",
        "    return max_value\n",
        "\n",
        "text = 'My marks in each semester are: 947, 896, 926, 524, 734, 950, 642'\n",
        "result = extract_maximum_numeric_value(text)\n",
        "\n",
        "print(f'Maximum numeric value in the text: {result}')\n"
      ],
      "metadata": {
        "colab": {
          "base_uri": "https://localhost:8080/"
        },
        "id": "b2kGtEDs0RRK",
        "outputId": "3bb57b9a-db39-4d5e-8e09-c04ed06a7338"
      },
      "execution_count": 131,
      "outputs": [
        {
          "output_type": "stream",
          "name": "stdout",
          "text": [
            "Maximum numeric value in the text: 950\n"
          ]
        }
      ]
    },
    {
      "cell_type": "markdown",
      "source": [
        "Question 23- Create a function in python to insert spaces between words\n",
        "starting with capital letters."
      ],
      "metadata": {
        "id": "H1hvxvHzZA9M"
      }
    },
    {
      "cell_type": "code",
      "source": [
        "import re\n",
        "\n",
        "def insert_spaces_before_capitals(text):\n",
        "    pattern = re.compile(r'([a-z])([A-Z])')\n",
        "    formatted_text = pattern.sub(r'\\1 \\2', text)\n",
        "    return formatted_text\n",
        "\n",
        "text = \"RegularExpressionIsAnImportantTopicInPython\"\n",
        "result = insert_spaces_before_capitals(text)\n",
        "\n",
        "print(result)\n"
      ],
      "metadata": {
        "colab": {
          "base_uri": "https://localhost:8080/"
        },
        "id": "kn3CZul30a7k",
        "outputId": "d093211a-5f56-441f-b200-59cff7087718"
      },
      "execution_count": 132,
      "outputs": [
        {
          "output_type": "stream",
          "name": "stdout",
          "text": [
            "Regular Expression Is An Important Topic In Python\n"
          ]
        }
      ]
    },
    {
      "cell_type": "markdown",
      "source": [
        "Question 24- Python regex to find sequences of one upper case letter followed\n",
        "by lower case letters"
      ],
      "metadata": {
        "id": "rtKpDH8RaelQ"
      }
    },
    {
      "cell_type": "code",
      "source": [
        "import re\n",
        "\n",
        "def find_sequences(text):\n",
        "    pattern = re.compile(r'\\b[A-Z][a-z]+\\b')\n",
        "    sequences = pattern.findall(text)\n",
        "    return sequences\n",
        "\n",
        "text = \"This is an Example Text with Sequences like This One and Another.\"\n",
        "result = find_sequences(text)\n",
        "\n",
        "print(result)\n"
      ],
      "metadata": {
        "colab": {
          "base_uri": "https://localhost:8080/"
        },
        "id": "Fnp3xUsX0gP_",
        "outputId": "7627a62c-6928-4bdb-b5cd-80dc525f06cb"
      },
      "execution_count": 133,
      "outputs": [
        {
          "output_type": "stream",
          "name": "stdout",
          "text": [
            "['This', 'Example', 'Text', 'Sequences', 'This', 'One', 'Another']\n"
          ]
        }
      ]
    },
    {
      "cell_type": "markdown",
      "source": [
        "Question 25- Write a Python program to remove continuous duplicate words\n",
        "from Sentence using Regular Expression."
      ],
      "metadata": {
        "id": "t3-D69d1bW10"
      }
    },
    {
      "cell_type": "code",
      "source": [
        "import re\n",
        "\n",
        "def remove_continuous_duplicates(sentence):\n",
        "    pattern = re.compile(r'\\b(\\w+)(\\s+\\1)+\\b')\n",
        "\n",
        "    cleaned_sentence = pattern.sub(r'\\1', sentence)\n",
        "\n",
        "    return cleaned_sentence\n",
        "\n",
        "text = \"Hello hello world world\"\n",
        "result = remove_continuous_duplicates(text)\n",
        "\n",
        "print(f'Original sentence: {text}')\n",
        "print(f'Sentence with continuous duplicate words removed: {result}')\n"
      ],
      "metadata": {
        "colab": {
          "base_uri": "https://localhost:8080/"
        },
        "id": "iidT_6Sp1xgr",
        "outputId": "9c674098-26bf-441e-a171-50ab5341f191"
      },
      "execution_count": 134,
      "outputs": [
        {
          "output_type": "stream",
          "name": "stdout",
          "text": [
            "Original sentence: Hello hello world world\n",
            "Sentence with continuous duplicate words removed: Hello hello world\n"
          ]
        }
      ]
    },
    {
      "cell_type": "markdown",
      "source": [
        "Question 26-  Write a python program using RegEx to accept string ending\n",
        "with alphanumeric character"
      ],
      "metadata": {
        "id": "vod1dgbUdAS8"
      }
    },
    {
      "cell_type": "code",
      "source": [
        "import re\n",
        "\n",
        "def is_alphanumeric_ending(input_string):\n",
        "    pattern = re.compile(r'.*[a-zA-Z0-9]$')\n",
        "\n",
        "    match = re.search(pattern, input_string)\n",
        "\n",
        "    return bool(match)\n",
        "\n",
        "user_input = input(\"Enter a string: \")\n",
        "result = is_alphanumeric_ending(user_input)\n",
        "\n",
        "if result:\n",
        "    print(\"The string ends with an alphanumeric character.\")\n",
        "else:\n",
        "    print(\"The string does not end with an alphanumeric character.\")\n"
      ],
      "metadata": {
        "colab": {
          "base_uri": "https://localhost:8080/"
        },
        "id": "WOIgP0rldBSU",
        "outputId": "84fc8c91-1ca7-4b58-faeb-d7c0e3691a25"
      },
      "execution_count": 135,
      "outputs": [
        {
          "output_type": "stream",
          "name": "stdout",
          "text": [
            "Enter a string: Hello123\n",
            "The string ends with an alphanumeric character.\n"
          ]
        }
      ]
    },
    {
      "cell_type": "markdown",
      "source": [
        "Question 27-Write a python program using RegEx to extract the hashtags"
      ],
      "metadata": {
        "id": "ks_U4TvgcuA1"
      }
    },
    {
      "cell_type": "code",
      "source": [
        "import re\n",
        "\n",
        "def extract_hashtags(text):\n",
        "    pattern = re.compile(r'#\\w+')\n",
        "\n",
        "    hashtags = pattern.findall(text)\n",
        "\n",
        "    return hashtags\n",
        "\n",
        "text = \"\"\"RT @kapil_kausik: #Doltiwal I mean #xyzabc is \"hurt\" by\n",
        "#Demonetization as the same has rendered USELESS\n",
        "<ed><U+00A0><U+00BD><ed><U+00B1><U+0089> \"acquired funds\" No\n",
        "wo\"\"\"\n",
        "\n",
        "result = extract_hashtags(text)\n",
        "print(f'Extracted hashtags: {result}')\n"
      ],
      "metadata": {
        "colab": {
          "base_uri": "https://localhost:8080/"
        },
        "id": "b9NeGdID2hHu",
        "outputId": "0a27a6fc-df28-42d0-e7dc-2c7122e6b4b3"
      },
      "execution_count": 136,
      "outputs": [
        {
          "output_type": "stream",
          "name": "stdout",
          "text": [
            "Extracted hashtags: ['#Doltiwal', '#xyzabc', '#Demonetization']\n"
          ]
        }
      ]
    },
    {
      "cell_type": "markdown",
      "source": [
        "Question 28- Write a python program using RegEx to remove <U+..> like\n",
        "symbols"
      ],
      "metadata": {
        "id": "w48ziyZMdLXQ"
      }
    },
    {
      "cell_type": "code",
      "source": [
        "import re\n",
        "\n",
        "def remove_u_plus_symbols(text):\n",
        "    pattern = re.compile(r'<U\\+\\w+>')\n",
        "    cleaned_text = pattern.sub('', text)\n",
        "    return cleaned_text\n",
        "\n",
        "text = \"@Jags123456 Bharat band on 28?? <ed><U+00A0><U+00BD><ed><U+00B8><U+0082>Those who are protesting #demonetization are all different party leaders\"\n",
        "result = remove_u_plus_symbols(text)\n",
        "print(result)\n"
      ],
      "metadata": {
        "colab": {
          "base_uri": "https://localhost:8080/"
        },
        "id": "B2CXjLsz3FFJ",
        "outputId": "97ff0f1c-c4d1-4679-9b08-b7637dcc5f6f"
      },
      "execution_count": 137,
      "outputs": [
        {
          "output_type": "stream",
          "name": "stdout",
          "text": [
            "@Jags123456 Bharat band on 28?? <ed><ed>Those who are protesting #demonetization are all different party leaders\n"
          ]
        }
      ]
    },
    {
      "cell_type": "markdown",
      "source": [
        "Question 29- Write a python program to extract dates from the text stored in\n",
        "the text file"
      ],
      "metadata": {
        "id": "ZPlLdOhcdprr"
      }
    },
    {
      "cell_type": "code",
      "source": [
        "import re\n",
        "def extract_dates_from_file(file_path):\n",
        "    with open(file_path, 'r') as file:\n",
        "        text = file.read()\n",
        "\n",
        "    date_pattern = re.compile(r'\\b\\d{2}-\\d{2}-\\d{4}\\b')\n",
        "\n",
        "    dates = date_pattern.findall(text)\n",
        "\n",
        "    return dates\n",
        "\n",
        "file_path = \"/content/sample_data/Files/text_dates.txt\"\n",
        "result = extract_dates_from_file(file_path)\n",
        "print(f'Extracted dates from the file: {result}')\n"
      ],
      "metadata": {
        "colab": {
          "base_uri": "https://localhost:8080/"
        },
        "id": "2QfxHB5-3GCC",
        "outputId": "0f6333f1-4f81-4ce9-e01a-60a7be97f4d6"
      },
      "execution_count": 138,
      "outputs": [
        {
          "output_type": "stream",
          "name": "stdout",
          "text": [
            "Extracted dates from the file: ['12-09-1992', '15-12-1999']\n"
          ]
        }
      ]
    },
    {
      "cell_type": "markdown",
      "source": [
        "Question 30- Create a function in python to remove all words from a string of\n",
        "length between 2 and 4.\n",
        "The use of the re.compile() method is mandatory.\n"
      ],
      "metadata": {
        "id": "PMykvAqYdxkj"
      }
    },
    {
      "cell_type": "code",
      "source": [
        "import re\n",
        "\n",
        "def remove_words(text):\n",
        "    pattern = re.compile(r'\\b\\w{2,4}\\b')\n",
        "    result = pattern.sub('', text)\n",
        "    return result\n",
        "\n",
        "text = \"The following example creates an ArrayList with a capacity of 50 elements. 4 elements are then added to the ArrayList and the ArrayList is trimmed accordingly.\"\n",
        "\n",
        "output_text = remove_words(text)\n",
        "print(output_text)\n"
      ],
      "metadata": {
        "colab": {
          "base_uri": "https://localhost:8080/"
        },
        "id": "YsXWa7V94X3c",
        "outputId": "7c76ec76-f238-4dc2-a9c2-bf2584df33f3"
      },
      "execution_count": 139,
      "outputs": [
        {
          "output_type": "stream",
          "name": "stdout",
          "text": [
            " following example creates  ArrayList  a capacity   elements. 4 elements   added   ArrayList   ArrayList  trimmed accordingly.\n"
          ]
        }
      ]
    }
  ]
}